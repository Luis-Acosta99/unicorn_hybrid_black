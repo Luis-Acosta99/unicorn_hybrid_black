{
 "cells": [
  {
   "cell_type": "markdown",
   "metadata": {},
   "source": [
    "# Inputs"
   ]
  },
  {
   "cell_type": "code",
   "execution_count": 2,
   "metadata": {},
   "outputs": [],
   "source": [
    "import sys\n",
    "# path to where the python api is stored on your local machine\n",
    "sys.path.append( \"C:/Users/luisf/Documents/gtec/Unicorn Suite/Hybrid Black/Unicorn Python/Lib\")\n",
    "import UnicornPy as up"
   ]
  },
  {
   "cell_type": "markdown",
   "metadata": {},
   "source": [
    "## Parameters\n",
    "Input parameters to set up for the execution of the code"
   ]
  },
  {
   "cell_type": "code",
   "execution_count": 3,
   "metadata": {},
   "outputs": [],
   "source": [
    "serial = \"1\""
   ]
  },
  {
   "cell_type": "code",
   "execution_count": 1,
   "metadata": {},
   "outputs": [
    {
     "ename": "NameError",
     "evalue": "name 'up' is not defined",
     "output_type": "error",
     "traceback": [
      "\u001b[1;31m---------------------------------------------------------------------------\u001b[0m",
      "\u001b[1;31mNameError\u001b[0m                                 Traceback (most recent call last)",
      "Cell \u001b[1;32mIn[1], line 1\u001b[0m\n\u001b[1;32m----> 1\u001b[0m device_list \u001b[38;5;241m=\u001b[39m \u001b[43mup\u001b[49m\u001b[38;5;241m.\u001b[39mIsDeviceLibraryLoadable()\n\u001b[0;32m      2\u001b[0m \u001b[38;5;28mprint\u001b[39m(device_list)\n",
      "\u001b[1;31mNameError\u001b[0m: name 'up' is not defined"
     ]
    }
   ],
   "source": [
    "device_list = up.IsDeviceLibraryLoadable()\n",
    "print(device_list)"
   ]
  },
  {
   "cell_type": "code",
   "execution_count": 23,
   "metadata": {},
   "outputs": [
    {
     "ename": "DeviceException",
     "evalue": "[4, '1 not found.']",
     "output_type": "error",
     "traceback": [
      "\u001b[1;31m---------------------------------------------------------------------------\u001b[0m",
      "\u001b[1;31mDeviceException\u001b[0m                           Traceback (most recent call last)",
      "Cell \u001b[1;32mIn[23], line 1\u001b[0m\n\u001b[1;32m----> 1\u001b[0m uhybrid \u001b[38;5;241m=\u001b[39m \u001b[43mup\u001b[49m\u001b[38;5;241;43m.\u001b[39;49m\u001b[43mUnicorn\u001b[49m\u001b[43m(\u001b[49m\u001b[43mserial\u001b[49m\u001b[43m)\u001b[49m\n",
      "\u001b[1;31mDeviceException\u001b[0m: [4, '1 not found.']"
     ]
    }
   ],
   "source": [
    "uhybrid = up.Unicorn(serial)"
   ]
  },
  {
   "cell_type": "code",
   "execution_count": null,
   "metadata": {},
   "outputs": [],
   "source": []
  }
 ],
 "metadata": {
  "kernelspec": {
   "display_name": "Python 3",
   "language": "python",
   "name": "python3"
  },
  "language_info": {
   "codemirror_mode": {
    "name": "ipython",
    "version": 3
   },
   "file_extension": ".py",
   "mimetype": "text/x-python",
   "name": "python",
   "nbconvert_exporter": "python",
   "pygments_lexer": "ipython3",
   "version": "3.12.2"
  }
 },
 "nbformat": 4,
 "nbformat_minor": 2
}
